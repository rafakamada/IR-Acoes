{
 "cells": [
  {
   "cell_type": "code",
   "execution_count": 34,
   "metadata": {},
   "outputs": [],
   "source": [
    "from wallet_class import stock_wallet\n",
    "import pandas as pd"
   ]
  },
  {
   "cell_type": "markdown",
   "metadata": {},
   "source": [
    "# Ler arquivo"
   ]
  },
  {
   "cell_type": "markdown",
   "metadata": {},
   "source": [
    "## Notas de corretagem\n",
    "\n",
    "As notas te corretagem foram transformadas em planilha usando [essa ferramenta](https://leitordenotas.github.io/) que, para notas de corretagem de até R$5000, é gratuita."
   ]
  },
  {
   "cell_type": "code",
   "execution_count": 35,
   "metadata": {},
   "outputs": [],
   "source": [
    "operations_df = pd.read_excel('transactions_example.xlsx')[['Data', 'C/V', 'Título', 'Quantidade', 'Preço']].sort_values('Data')\n",
    "operations_list_dict = operations_df.to_dict('records')"
   ]
  },
  {
   "cell_type": "markdown",
   "metadata": {},
   "source": [
    "# Criar carteira"
   ]
  },
  {
   "cell_type": "code",
   "execution_count": 36,
   "metadata": {},
   "outputs": [],
   "source": [
    "wallet = stock_wallet()"
   ]
  },
  {
   "cell_type": "code",
   "execution_count": 37,
   "metadata": {},
   "outputs": [],
   "source": [
    "def operate(wallet, date, c_v, ticker, quantity, price):\n",
    "    date_string = date.strftime('%Y-%m-%d')\n",
    "    quantity = abs(quantity)\n",
    "    #print(date_string)\n",
    "    if c_v == 'C':\n",
    "        wallet.buy(date_string, ticker, quantity, price)\n",
    "    else:\n",
    "        wallet.sell(date_string, ticker, quantity, price)"
   ]
  },
  {
   "cell_type": "code",
   "execution_count": 38,
   "metadata": {},
   "outputs": [],
   "source": [
    "useless_variable = list(map(\n",
    "    lambda x: operate(\n",
    "        wallet,\n",
    "        x['Data'],\n",
    "        x['C/V'],\n",
    "        x['Título'],\n",
    "        x['Quantidade'],\n",
    "        x['Preço']\n",
    "        ),\n",
    "        operations_list_dict\n",
    "))"
   ]
  },
  {
   "cell_type": "code",
   "execution_count": 39,
   "metadata": {},
   "outputs": [
    {
     "data": {
      "text/plain": [
       "415"
      ]
     },
     "execution_count": 39,
     "metadata": {},
     "output_type": "execute_result"
    }
   ],
   "source": [
    "wallet.get_year_non_tributable_result(2021)"
   ]
  },
  {
   "cell_type": "code",
   "execution_count": 40,
   "metadata": {},
   "outputs": [
    {
     "data": {
      "text/plain": [
       "[{'month': '1/2021', 'balance': 0, '20k_DARF': False},\n",
       " {'month': '2/2021', 'balance': 0, '20k_DARF': False},\n",
       " {'month': '3/2021', 'balance': 0, '20k_DARF': False},\n",
       " {'month': '4/2021', 'balance': 0, '20k_DARF': False},\n",
       " {'month': '5/2021', 'balance': 0, '20k_DARF': False},\n",
       " {'month': '6/2021', 'balance': 0, '20k_DARF': False},\n",
       " {'month': '7/2021', 'balance': 0, '20k_DARF': False},\n",
       " {'month': '8/2021', 'balance': 1815, '20k_DARF': False},\n",
       " {'month': '9/2021', 'balance': 0, '20k_DARF': False},\n",
       " {'month': '10/2021', 'balance': 0, '20k_DARF': False},\n",
       " {'month': '11/2021', 'balance': -1400, '20k_DARF': False},\n",
       " {'month': '12/2021', 'balance': 0, '20k_DARF': False}]"
      ]
     },
     "execution_count": 40,
     "metadata": {},
     "output_type": "execute_result"
    }
   ],
   "source": [
    "wallet.get_year_results(2021)"
   ]
  },
  {
   "cell_type": "code",
   "execution_count": 41,
   "metadata": {},
   "outputs": [
    {
     "data": {
      "text/plain": [
       "[{'date': datetime.datetime(2021, 8, 3, 0, 0),\n",
       "  'ticker': 'OSCP3',\n",
       "  'buy_or_sell': 'sell',\n",
       "  'quantity': -19,\n",
       "  'price': 57,\n",
       "  'balance': 152},\n",
       " {'date': datetime.datetime(2021, 8, 3, 0, 0),\n",
       "  'ticker': 'OSCP3',\n",
       "  'buy_or_sell': 'sell',\n",
       "  'quantity': -41,\n",
       "  'price': 55,\n",
       "  'balance': 262},\n",
       " {'date': datetime.datetime(2021, 8, 3, 0, 0),\n",
       "  'ticker': 'OSCP3',\n",
       "  'buy_or_sell': 'sell',\n",
       "  'quantity': -1,\n",
       "  'price': 56,\n",
       "  'balance': 8},\n",
       " {'date': datetime.datetime(2021, 8, 31, 0, 0),\n",
       "  'ticker': 'LSFT3',\n",
       "  'buy_or_sell': 'sell',\n",
       "  'quantity': -256,\n",
       "  'price': 29,\n",
       "  'balance': 1393}]"
      ]
     },
     "execution_count": 41,
     "metadata": {},
     "output_type": "execute_result"
    }
   ],
   "source": [
    "wallet.get_month_transactions(8,2021)"
   ]
  },
  {
   "cell_type": "code",
   "execution_count": null,
   "metadata": {},
   "outputs": [],
   "source": []
  }
 ],
 "metadata": {
  "interpreter": {
   "hash": "31f2aee4e71d21fbe5cf8b01ff0e069b9275f58929596ceb00d14d90e3e16cd6"
  },
  "kernelspec": {
   "display_name": "Python 3.8.10 64-bit",
   "language": "python",
   "name": "python3"
  },
  "language_info": {
   "codemirror_mode": {
    "name": "ipython",
    "version": 3
   },
   "file_extension": ".py",
   "mimetype": "text/x-python",
   "name": "python",
   "nbconvert_exporter": "python",
   "pygments_lexer": "ipython3",
   "version": "3.8.10"
  },
  "orig_nbformat": 4
 },
 "nbformat": 4,
 "nbformat_minor": 2
}
