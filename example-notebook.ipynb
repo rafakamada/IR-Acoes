{
 "cells": [
  {
   "cell_type": "code",
   "execution_count": 1,
   "id": "3519ccc4",
   "metadata": {},
   "outputs": [],
   "source": [
    "from wallet_class import stock_wallet"
   ]
  },
  {
   "cell_type": "code",
   "execution_count": 2,
   "id": "93a2b5dc",
   "metadata": {},
   "outputs": [],
   "source": [
    "myWallet = stock_wallet()"
   ]
  },
  {
   "cell_type": "code",
   "execution_count": 3,
   "id": "ffc89773",
   "metadata": {},
   "outputs": [],
   "source": [
    "myWallet.buy('2022-05-01', 'test4', 100, 10)\n",
    "myWallet.buy('2022-05-01', 'ABCD3', 100, 25.10)\n",
    "myWallet.buy('2022-05-10', 'test4', 200, 5)\n",
    "myWallet.buy('2022-09-20', 'test4', 100, 10)\n"
   ]
  },
  {
   "cell_type": "code",
   "execution_count": 4,
   "id": "9d2821d4",
   "metadata": {},
   "outputs": [
    {
     "data": {
      "text/plain": [
       "3000"
      ]
     },
     "execution_count": 4,
     "metadata": {},
     "output_type": "execute_result"
    }
   ],
   "source": [
    "myWallet.stock_dict['TEST4'].sum_stocks_value()"
   ]
  },
  {
   "cell_type": "code",
   "execution_count": 5,
   "id": "b727040d",
   "metadata": {},
   "outputs": [
    {
     "data": {
      "text/plain": [
       "[{'date': datetime.datetime(2022, 5, 1, 0, 0),\n",
       "  'ticker': 'TEST4',\n",
       "  'buy_or_sell': 'buy',\n",
       "  'quantity': 100,\n",
       "  'price': 10,\n",
       "  'balance': 0},\n",
       " {'date': datetime.datetime(2022, 5, 1, 0, 0),\n",
       "  'ticker': 'ABCD3',\n",
       "  'buy_or_sell': 'buy',\n",
       "  'quantity': 100,\n",
       "  'price': 25.1,\n",
       "  'balance': 0},\n",
       " {'date': datetime.datetime(2022, 5, 10, 0, 0),\n",
       "  'ticker': 'TEST4',\n",
       "  'buy_or_sell': 'buy',\n",
       "  'quantity': 200,\n",
       "  'price': 5,\n",
       "  'balance': 0},\n",
       " {'date': datetime.datetime(2022, 9, 20, 0, 0),\n",
       "  'ticker': 'TEST4',\n",
       "  'buy_or_sell': 'buy',\n",
       "  'quantity': 100,\n",
       "  'price': 10,\n",
       "  'balance': 0}]"
      ]
     },
     "execution_count": 5,
     "metadata": {},
     "output_type": "execute_result"
    }
   ],
   "source": [
    "myWallet.transactions"
   ]
  },
  {
   "cell_type": "code",
   "execution_count": 6,
   "id": "88cd1b56",
   "metadata": {},
   "outputs": [
    {
     "data": {
      "text/plain": [
       "[{'date': datetime.datetime(2022, 5, 1, 0, 0),\n",
       "  'ticker': 'TEST4',\n",
       "  'buy_or_sell': 'buy',\n",
       "  'quantity': 100,\n",
       "  'price': 10,\n",
       "  'balance': 0},\n",
       " {'date': datetime.datetime(2022, 5, 1, 0, 0),\n",
       "  'ticker': 'ABCD3',\n",
       "  'buy_or_sell': 'buy',\n",
       "  'quantity': 100,\n",
       "  'price': 25.1,\n",
       "  'balance': 0},\n",
       " {'date': datetime.datetime(2022, 5, 10, 0, 0),\n",
       "  'ticker': 'TEST4',\n",
       "  'buy_or_sell': 'buy',\n",
       "  'quantity': 200,\n",
       "  'price': 5,\n",
       "  'balance': 0}]"
      ]
     },
     "execution_count": 6,
     "metadata": {},
     "output_type": "execute_result"
    }
   ],
   "source": [
    "myWallet.get_month_transactions(5,2022)"
   ]
  },
  {
   "cell_type": "code",
   "execution_count": 7,
   "id": "c46e40b8",
   "metadata": {},
   "outputs": [
    {
     "data": {
      "text/plain": [
       "{'month': '5/2022', 'balance': -400, '20k_DARF': False}"
      ]
     },
     "execution_count": 7,
     "metadata": {},
     "output_type": "execute_result"
    }
   ],
   "source": [
    "myWallet.sell('2022-05-03', 'test4', 80, 5)\n",
    "myWallet.get_month_balance(5,2022)"
   ]
  },
  {
   "cell_type": "code",
   "execution_count": 8,
   "id": "249e299d",
   "metadata": {},
   "outputs": [
    {
     "data": {
      "text/plain": [
       "{'month': '1/2022', 'balance': 0, '20k_DARF': False}"
      ]
     },
     "execution_count": 8,
     "metadata": {},
     "output_type": "execute_result"
    }
   ],
   "source": [
    "myWallet.get_month_balance(1,2022)"
   ]
  },
  {
   "cell_type": "code",
   "execution_count": 11,
   "id": "6df1607f",
   "metadata": {},
   "outputs": [
    {
     "data": {
      "text/plain": [
       "[{'month': '1/2022', 'balance': 0, '20k_DARF': False},\n",
       " {'month': '2/2022', 'balance': 0, '20k_DARF': False},\n",
       " {'month': '3/2022', 'balance': 0, '20k_DARF': False},\n",
       " {'month': '4/2022', 'balance': 0, '20k_DARF': False},\n",
       " {'month': '5/2022', 'balance': -400, '20k_DARF': False},\n",
       " {'month': '6/2022', 'balance': 0, '20k_DARF': False},\n",
       " {'month': '7/2022', 'balance': 0, '20k_DARF': False},\n",
       " {'month': '8/2022', 'balance': 0, '20k_DARF': False},\n",
       " {'month': '9/2022', 'balance': 0, '20k_DARF': False},\n",
       " {'month': '10/2022', 'balance': 0, '20k_DARF': False},\n",
       " {'month': '11/2022', 'balance': 0, '20k_DARF': False},\n",
       " {'month': '12/2022', 'balance': 0, '20k_DARF': False}]"
      ]
     },
     "execution_count": 11,
     "metadata": {},
     "output_type": "execute_result"
    }
   ],
   "source": [
    "myWallet.get_year_results(2022)"
   ]
  },
  {
   "cell_type": "code",
   "execution_count": 12,
   "id": "ed9ba751",
   "metadata": {},
   "outputs": [
    {
     "data": {
      "text/plain": [
       "-400"
      ]
     },
     "execution_count": 12,
     "metadata": {},
     "output_type": "execute_result"
    }
   ],
   "source": [
    "myWallet.get_year_non_tributable_result(2022)"
   ]
  },
  {
   "cell_type": "code",
   "execution_count": null,
   "id": "80252b2f",
   "metadata": {},
   "outputs": [],
   "source": []
  }
 ],
 "metadata": {
  "interpreter": {
   "hash": "31f2aee4e71d21fbe5cf8b01ff0e069b9275f58929596ceb00d14d90e3e16cd6"
  },
  "kernelspec": {
   "display_name": "Python 3.8.10 64-bit",
   "language": "python",
   "name": "python3"
  },
  "language_info": {
   "codemirror_mode": {
    "name": "ipython",
    "version": 3
   },
   "file_extension": ".py",
   "mimetype": "text/x-python",
   "name": "python",
   "nbconvert_exporter": "python",
   "pygments_lexer": "ipython3",
   "version": "3.8.10"
  }
 },
 "nbformat": 4,
 "nbformat_minor": 5
}
